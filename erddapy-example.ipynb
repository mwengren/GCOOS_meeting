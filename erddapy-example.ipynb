{
 "cells": [
  {
   "cell_type": "markdown",
   "metadata": {},
   "source": [
    "# Exploring the gliders ERDDAP server"
   ]
  },
  {
   "cell_type": "code",
   "execution_count": null,
   "metadata": {},
   "outputs": [],
   "source": [
    "from erddapy import ERDDAP\n",
    "\n",
    "\n",
    "e = ERDDAP(\n",
    "    server='https://data.ioos.us/gliders/erddap',\n",
    "    protocol='tabledap',\n",
    ")"
   ]
  },
  {
   "cell_type": "markdown",
   "metadata": {},
   "source": [
    "### Define filter criteria:\n",
    "\n",
    "Using the erddapy library to query the IOOS Glider DAC ERDDAP server, we'll look for CF standard name 'sea_water_temperature' with a bounding box covering roughly the Gulf of Mexico year 2018.  Also, filter by CDM data type of 'trajectoryprofile'.\n"
   ]
  },
  {
   "cell_type": "code",
   "execution_count": null,
   "metadata": {},
   "outputs": [],
   "source": [
    "min_lat, max_lat = 20, 30\n",
    "min_lon, max_lon = -82, -97\n",
    "        \n",
    "kw = {\n",
    "    'standard_name': 'sea_water_temperature',\n",
    "    'min_lon': min_lon,\n",
    "    'max_lon': max_lon,\n",
    "    'min_lat': min_lat,\n",
    "    'max_lat': max_lat,\n",
    "    'min_time': '2018-01-10T00:00:00Z',\n",
    "    'max_time': '2018-09-01T00:00:00Z',\n",
    "    'cdm_data_type': 'trajectoryprofile'\n",
    "}"
   ]
  },
  {
   "cell_type": "markdown",
   "metadata": {},
   "source": [
    "erddapy generates an ERDDAP 'advanced' search-compliant search url for us automatically (preview results using the link below):"
   ]
  },
  {
   "cell_type": "code",
   "execution_count": null,
   "metadata": {},
   "outputs": [],
   "source": [
    "search_url = e.get_search_url(response='csv', **kw)\n",
    "\n",
    "print('search_url: ' + search_url)"
   ]
  },
  {
   "cell_type": "markdown",
   "metadata": {},
   "source": [
    "### Pandas integration:\n",
    "\n",
    "Interrogate the search results using a Pandas DataFrame created from ERDDAP's csv output format:"
   ]
  },
  {
   "cell_type": "code",
   "execution_count": null,
   "metadata": {},
   "outputs": [],
   "source": [
    "import pandas as pd\n",
    "\n",
    "search = pd.read_csv(search_url)\n",
    "gliders = search['Dataset ID'].values\n",
    "\n",
    "print('Found {} Glider Datasets:\\n{}'.format(len(gliders), '\\n'.join(gliders)))"
   ]
  },
  {
   "cell_type": "markdown",
   "metadata": {},
   "source": [
    "Pick a dataset and associated variables of interest:"
   ]
  },
  {
   "cell_type": "code",
   "execution_count": null,
   "metadata": {},
   "outputs": [],
   "source": [
    "dataset_id = 'sam-20180824T0000'\n",
    "\n",
    "\n",
    "variables = [\n",
    " 'depth',\n",
    " 'latitude',\n",
    " 'longitude',\n",
    " 'salinity',\n",
    " 'temperature',\n",
    " 'time',\n",
    "]"
   ]
  },
  {
   "cell_type": "markdown",
   "metadata": {},
   "source": [
    "Assign these values to the ERRDAP server instance to download the glider deployment data!\n",
    "\n",
    "Filipe, it would be a great addition to the erddapy library if there were a way to break down the query/download flow somehow so you could first interrogate a dataset's metadata (just the e.dataset_id = dataset_id) part, output metadata showing available variables, then apply a variable filter on a dataset object, rather than all the way up at the 'e' server level.  Such as:\n",
    "\n",
    "```\n",
    "e.dataset_id = dataset_id\n",
    "\n",
    "\n",
    "dataset = e.get_dataset()\n",
    "dataset                   #show variables, global attributes/other metadata\n",
    "```\n",
    "```\n",
    "dataset.variables = variables\n",
    "\n",
    "data = d.get_download_url(\n",
    "        response='mat',  # like matlab? ERDDAP has your back!\n",
    "    )\n",
    "```\n",
    "etc..\n",
    "\n",
    "This may not be possible wrt ERDDAP's capabilities though, IDK.  Conceptually, that would make this much clearer and more intuitive though.  "
   ]
  },
  {
   "cell_type": "code",
   "execution_count": null,
   "metadata": {},
   "outputs": [],
   "source": [
    "e.dataset_id = dataset_id\n",
    "e.variables = variables\n",
    "\n",
    "print(\n",
    "    e.get_download_url(\n",
    "        response='mat',  # like matlab? ERDDAP has your back!\n",
    "    )\n",
    ")"
   ]
  },
  {
   "cell_type": "markdown",
   "metadata": {},
   "source": [
    "Clicking in the URL above will get a `.mat` file ready for download.\n",
    "However, we'll stay in the Python world and use pandas to load a `csv`."
   ]
  },
  {
   "cell_type": "code",
   "execution_count": null,
   "metadata": {},
   "outputs": [],
   "source": [
    "df = e.to_pandas(\n",
    "    index_col='time',\n",
    "    parse_dates=True,\n",
    "    skiprows=(1,)\n",
    ").dropna()\n",
    "\n",
    "df.head()"
   ]
  },
  {
   "cell_type": "markdown",
   "metadata": {},
   "source": [
    "### Plot a trajectoryProfile of water temperature using matplotlib\n",
    "\n"
   ]
  },
  {
   "cell_type": "code",
   "execution_count": null,
   "metadata": {},
   "outputs": [],
   "source": [
    "%matplotlib inline\n",
    "import matplotlib.pyplot as plt\n",
    "import matplotlib.dates as mdates\n",
    "\n",
    "fig, ax = plt.subplots(figsize=(17, 2))\n",
    "cs = ax.scatter(df.index, df['depth'], s=15, c=df['temperature'],\n",
    "                marker='o', edgecolor='none')\n",
    "\n",
    "ax.invert_yaxis()\n",
    "ax.set_xlim(df.index[0], df.index[-1])\n",
    "xfmt = mdates.DateFormatter('%H:%Mh\\n%d-%b')\n",
    "ax.xaxis.set_major_formatter(xfmt)\n",
    "\n",
    "cbar = fig.colorbar(cs, orientation='vertical', extend='both')\n",
    "cbar.ax.set_ylabel('Temperature ($^\\circ$C)')\n",
    "ax.set_ylabel('Depth (m)');"
   ]
  },
  {
   "cell_type": "markdown",
   "metadata": {},
   "source": [
    "### Plot the glider track using CartoPY:"
   ]
  },
  {
   "cell_type": "code",
   "execution_count": null,
   "metadata": {},
   "outputs": [],
   "source": [
    "import cartopy.crs as ccrs\n",
    "import cartopy.feature as cfeature\n",
    "\n",
    "\n",
    "land_10m = cfeature.NaturalEarthFeature(\n",
    "    'physical', 'land', '10m',\n",
    "     edgecolor='k', facecolor='0.75',\n",
    ")\n",
    "\n",
    "\n",
    "fig, ax = plt.subplots(\n",
    "    subplot_kw={'projection': ccrs.PlateCarree()},\n",
    "    figsize=(7, 7)\n",
    ")\n",
    "\n",
    "ax.plot(df['longitude'], df['latitude'], 'o')\n",
    "\n",
    "gl = ax.gridlines(draw_labels=True)\n",
    "gl.xlabels_bottom = gl.ylabels_left = False\n",
    "\n",
    "ax.add_feature(land_10m)\n",
    "\n",
    "dx = dy = 2\n",
    "ax.set_extent(\n",
    "    [df['longitude'].min()-dx, df['longitude'].max()+dx,\n",
    "     df['latitude'].min()-dy, df['latitude'].max()+dy]\n",
    ");"
   ]
  },
  {
   "cell_type": "code",
   "execution_count": null,
   "metadata": {},
   "outputs": [],
   "source": []
  }
 ],
 "metadata": {
  "_draft": {
   "nbviewer_url": "https://gist.github.com/7e5eab16282538d11fdab7de5bd0c474"
  },
  "gist": {
   "data": {
    "description": "ERDDAP_advanced_glider_search.ipynb",
    "public": true
   },
   "id": "7e5eab16282538d11fdab7de5bd0c474"
  },
  "gist_id": "3f0f25b13ade0c64c84607bd92903d1b",
  "kernelspec": {
   "display_name": "Python [default]",
   "language": "python",
   "name": "python3"
  },
  "language_info": {
   "codemirror_mode": {
    "name": "ipython",
    "version": 3
   },
   "file_extension": ".py",
   "mimetype": "text/x-python",
   "name": "python",
   "nbconvert_exporter": "python",
   "pygments_lexer": "ipython3",
   "version": "3.6.6"
  }
 },
 "nbformat": 4,
 "nbformat_minor": 1
}
